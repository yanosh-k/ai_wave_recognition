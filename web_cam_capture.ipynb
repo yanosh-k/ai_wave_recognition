{
 "cells": [
  {
   "cell_type": "code",
   "execution_count": 8,
   "id": "da77e22f-2b7c-416a-b390-ef008a6028c2",
   "metadata": {},
   "outputs": [],
   "source": [
    "import cv2"
   ]
  },
  {
   "cell_type": "code",
   "execution_count": null,
   "id": "ed55ca73-42d4-4279-89c5-174a7ebb231a",
   "metadata": {},
   "outputs": [],
   "source": [
    "cap = cv2.VideoCapture(2)\n",
    "cap.set(3,640) # adjust width\n",
    "cap.set(4,480) # adjust height\n",
    "\n",
    "imgCounter = 0\n",
    "\n",
    "while True:\n",
    "    success, img = cap.read()\n",
    "    flippedImg = cv2.flip(img, 1)\n",
    "    cv2.imshow(\"Webcam\", flippedImg) # This will open an independent window\n",
    "    key = cv2.waitKey(1)\n",
    "    if key & 0xFF == ord('q'): # quit when 'q' is pressed\n",
    "        cap.release()\n",
    "        break \n",
    "    elif key & 0xFF == ord(' '):\n",
    "        imgName = f\"waving_{imgCounter}.png\"\n",
    "        cv2.imwrite(imgName, flippedImg)\n",
    "        print(f\"{imgName} writtern!\")\n",
    "        imgCounter += 1\n",
    "        \n",
    "cv2.destroyAllWindows() "
   ]
  },
  {
   "cell_type": "code",
   "execution_count": null,
   "id": "4075c321-1974-4bd0-849d-075b3abaa204",
   "metadata": {},
   "outputs": [],
   "source": [
    "cap = cv2.VideoCapture(2)\n",
    "cap.set(3,640) # adjust width\n",
    "cap.set(4,480) # adjust height\n",
    "\n",
    "imgCounter = 0\n",
    "\n",
    "while True:\n",
    "    success, img = cap.read()\n",
    "    flippedImg = cv2.flip(img, 1)\n",
    "    cv2.imshow(\"Webcam\", flippedImg) # This will open an independent window\n",
    "    key = cv2.waitKey(1)\n",
    "    if key & 0xFF == ord('q'): # quit when 'q' is pressed\n",
    "        cap.release()\n",
    "        break \n",
    "    elif key & 0xFF == ord(' '):\n",
    "        imgName = f\"NON_waving_{imgCounter}.png\"\n",
    "        cv2.imwrite(imgName, flippedImg)\n",
    "        print(f\"{imgName} writtern!\")\n",
    "        imgCounter += 1\n",
    "        \n",
    "cv2.destroyAllWindows() "
   ]
  }
 ],
 "metadata": {
  "kernelspec": {
   "display_name": "Python 3 (ipykernel)",
   "language": "python",
   "name": "python3"
  },
  "language_info": {
   "codemirror_mode": {
    "name": "ipython",
    "version": 3
   },
   "file_extension": ".py",
   "mimetype": "text/x-python",
   "name": "python",
   "nbconvert_exporter": "python",
   "pygments_lexer": "ipython3",
   "version": "3.10.12"
  }
 },
 "nbformat": 4,
 "nbformat_minor": 5
}
